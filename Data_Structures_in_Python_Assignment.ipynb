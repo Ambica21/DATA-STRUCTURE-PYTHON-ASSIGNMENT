{
  "nbformat": 4,
  "nbformat_minor": 0,
  "metadata": {
    "colab": {
      "provenance": []
    },
    "kernelspec": {
      "name": "python3",
      "display_name": "Python 3"
    },
    "language_info": {
      "name": "python"
    }
  },
  "cells": [
    {
      "cell_type": "code",
      "execution_count": null,
      "metadata": {
        "id": "76VAeU3QuRig"
      },
      "outputs": [],
      "source": [
        "# Q. 1 Write a code to reverse a string."
      ]
    },
    {
      "cell_type": "code",
      "source": [
        "string1 = \"she is beautiful\""
      ],
      "metadata": {
        "id": "kCk5p5lXuiV9"
      },
      "execution_count": null,
      "outputs": []
    },
    {
      "cell_type": "code",
      "source": [
        "string1[::-1]"
      ],
      "metadata": {
        "colab": {
          "base_uri": "https://localhost:8080/",
          "height": 35
        },
        "id": "d4bnjWqbu3n-",
        "outputId": "2eb478fb-1d1a-4a0a-810c-2ef0398aff1c"
      },
      "execution_count": null,
      "outputs": [
        {
          "output_type": "execute_result",
          "data": {
            "text/plain": [
              "'lufituaeb si ehs'"
            ],
            "application/vnd.google.colaboratory.intrinsic+json": {
              "type": "string"
            }
          },
          "metadata": {},
          "execution_count": 3
        }
      ]
    },
    {
      "cell_type": "code",
      "source": [
        "# Q. 2 Write a code to count the number of vowels in a string."
      ],
      "metadata": {
        "id": "DPhcgdC7u6K7"
      },
      "execution_count": null,
      "outputs": []
    },
    {
      "cell_type": "code",
      "source": [
        "vowels = set(\"aeiouAEIOU\")"
      ],
      "metadata": {
        "id": "QAgIGjdFvDcW"
      },
      "execution_count": null,
      "outputs": []
    },
    {
      "cell_type": "code",
      "source": [
        "for char in string1:\n",
        "    if char in vowels:\n",
        "        print(char)"
      ],
      "metadata": {
        "colab": {
          "base_uri": "https://localhost:8080/"
        },
        "id": "LRqQVV1DvLNu",
        "outputId": "a40f8f88-2d83-4a6c-a520-67d39b1b7ff4"
      },
      "execution_count": null,
      "outputs": [
        {
          "output_type": "stream",
          "name": "stdout",
          "text": [
            "e\n",
            "i\n",
            "e\n",
            "a\n",
            "u\n",
            "i\n",
            "u\n"
          ]
        }
      ]
    },
    {
      "cell_type": "code",
      "source": [
        "Phrase = \"she is beautiful\"\n",
        "count = 0\n",
        "vowels = [\"a\", \"e\", \"i\", \"o\", \"u\"]\n",
        "\n",
        "for i in range(len(Phrase)):\n",
        "    if Phrase[i] in vowels:\n",
        "        count += 1\n",
        "\n",
        "print(\"Number of vowels in the given string is: \", count)"
      ],
      "metadata": {
        "colab": {
          "base_uri": "https://localhost:8080/"
        },
        "id": "XPE8fR5xx74U",
        "outputId": "07d7cddc-98c3-4c50-abe5-57237694da3c"
      },
      "execution_count": null,
      "outputs": [
        {
          "output_type": "stream",
          "name": "stdout",
          "text": [
            "Number of vowels in the given string is:  7\n"
          ]
        }
      ]
    },
    {
      "cell_type": "code",
      "source": [
        "Statement = \"work hard , dream big\"\n",
        "\n",
        "vowels = [\"a\", \"e\", \"i\", \"o\", \"u\"]\n",
        "count = 0\n",
        "for char in Statement:\n",
        "    if char in vowels:\n",
        "        count += 1\n",
        "\n",
        "print(\"Number of vowels in the given string is: \", count)"
      ],
      "metadata": {
        "colab": {
          "base_uri": "https://localhost:8080/"
        },
        "id": "TeBuCPv7zjFy",
        "outputId": "efdfd62f-f21e-48ee-cf59-548b01024d88"
      },
      "execution_count": null,
      "outputs": [
        {
          "output_type": "stream",
          "name": "stdout",
          "text": [
            "Number of vowels in the given string is:  5\n"
          ]
        }
      ]
    },
    {
      "cell_type": "code",
      "source": [
        "# Q.3 Write a code to check if a given string is a palindrome or not."
      ],
      "metadata": {
        "id": "nuYCSo2jz7XI"
      },
      "execution_count": null,
      "outputs": []
    },
    {
      "cell_type": "code",
      "source": [
        "# A Palindrome in Python is a string, number, or another sequence of units that can be read in the same way in either direction."
      ],
      "metadata": {
        "id": "1z8SQ_Z11n6K"
      },
      "execution_count": null,
      "outputs": []
    },
    {
      "cell_type": "code",
      "source": [
        "string1"
      ],
      "metadata": {
        "colab": {
          "base_uri": "https://localhost:8080/",
          "height": 35
        },
        "id": "mnC4lrxX0LTr",
        "outputId": "7ffdf8bc-c838-46cb-db9b-8d58fd82b6ca"
      },
      "execution_count": null,
      "outputs": [
        {
          "output_type": "execute_result",
          "data": {
            "text/plain": [
              "'she is beautiful'"
            ],
            "application/vnd.google.colaboratory.intrinsic+json": {
              "type": "string"
            }
          },
          "metadata": {},
          "execution_count": 22
        }
      ]
    },
    {
      "cell_type": "code",
      "source": [
        "string1.lower()"
      ],
      "metadata": {
        "colab": {
          "base_uri": "https://localhost:8080/",
          "height": 35
        },
        "id": "Kmgy_ab61s9C",
        "outputId": "0381d752-d332-4205-8c22-1f7c3a140ef2"
      },
      "execution_count": null,
      "outputs": [
        {
          "output_type": "execute_result",
          "data": {
            "text/plain": [
              "'she is beautiful'"
            ],
            "application/vnd.google.colaboratory.intrinsic+json": {
              "type": "string"
            }
          },
          "metadata": {},
          "execution_count": 23
        }
      ]
    },
    {
      "cell_type": "code",
      "source": [
        "string1.upper()"
      ],
      "metadata": {
        "colab": {
          "base_uri": "https://localhost:8080/",
          "height": 35
        },
        "id": "Lol9c55I1wg8",
        "outputId": "7216e191-ebc0-4264-c0a8-3fb3fa3fd782"
      },
      "execution_count": null,
      "outputs": [
        {
          "output_type": "execute_result",
          "data": {
            "text/plain": [
              "'SHE IS BEAUTIFUL'"
            ],
            "application/vnd.google.colaboratory.intrinsic+json": {
              "type": "string"
            }
          },
          "metadata": {},
          "execution_count": 24
        }
      ]
    },
    {
      "cell_type": "code",
      "source": [
        "a = \"level\"\n",
        "output = \"is palidrome\"\n",
        "\n",
        "if a == a[::-1]:\n",
        "    print(output)\n",
        "else:\n",
        "    print(\"not palindrome\")\n"
      ],
      "metadata": {
        "colab": {
          "base_uri": "https://localhost:8080/"
        },
        "id": "uQrMrFFr2ugX",
        "outputId": "de36bf43-57ec-4e0b-9dfa-526ab48484ad"
      },
      "execution_count": null,
      "outputs": [
        {
          "output_type": "stream",
          "name": "stdout",
          "text": [
            "is palidrome\n"
          ]
        }
      ]
    },
    {
      "cell_type": "code",
      "source": [
        "b = \"refer\"\n",
        "answer = \" this is palindrome\"\n",
        "\n",
        "if b == b[::-1]:\n",
        "    print(answer)\n",
        "\n",
        "else:\n",
        "    print(\"not palidrome\")"
      ],
      "metadata": {
        "colab": {
          "base_uri": "https://localhost:8080/"
        },
        "id": "InH7d5zm390e",
        "outputId": "047dbbaf-346b-4e0e-c80d-36f552ce5839"
      },
      "execution_count": null,
      "outputs": [
        {
          "output_type": "stream",
          "name": "stdout",
          "text": [
            " this is palindrome\n"
          ]
        }
      ]
    },
    {
      "cell_type": "code",
      "source": [
        "# Q. 4 Write a code to check if two given strings are anagrams of each other."
      ],
      "metadata": {
        "id": "sLxE7WAP5lJJ"
      },
      "execution_count": null,
      "outputs": []
    },
    {
      "cell_type": "code",
      "source": [
        "def are_anagrams(string1, string2):\n",
        "\n",
        "    string1 = string1.replace(\" \", \"\").lower()\n",
        "    string2 = string2.replace(\" \", \"\").lower()\n",
        "\n",
        "\n",
        "    return sorted(string1) == sorted(string2)\n",
        "\n",
        "\n",
        "string1 = \"Listen\"\n",
        "string2 = \"Silent\"\n",
        "\n",
        "if are_anagrams(string1, string2):\n",
        "    print(f\"'{string1}' and '{string2}' are anagrams.\")\n",
        "else:\n",
        "    print(f\"'{string1}' and '{string2}' are not anagrams.\")"
      ],
      "metadata": {
        "colab": {
          "base_uri": "https://localhost:8080/"
        },
        "id": "qgI6GU5V68O3",
        "outputId": "268595d1-7310-420f-a92c-ab87ae6e09ba"
      },
      "execution_count": null,
      "outputs": [
        {
          "output_type": "stream",
          "name": "stdout",
          "text": [
            "'Listen' and 'Silent' are anagrams.\n"
          ]
        }
      ]
    },
    {
      "cell_type": "code",
      "source": [
        "def are_anagrams(string1, string2):\n",
        "\n",
        "\n",
        "\n",
        "\n",
        "     sorted(string1) == sorted(string2)\n",
        "\n",
        "\n",
        "string1 = \"gram\"\n",
        "string2 = \"arm\"\n",
        "\n",
        "if are_anagrams(string1, string2):\n",
        "    print(f\"'{string1}' and '{string2}' are anagrams.\")\n",
        "else:\n",
        "    print(f\"'{string1}' and '{string2}' are not anagrams.\")"
      ],
      "metadata": {
        "colab": {
          "base_uri": "https://localhost:8080/"
        },
        "id": "my0owPDL8p_7",
        "outputId": "51ec5211-575e-450f-bd2d-14d6009bec47"
      },
      "execution_count": null,
      "outputs": [
        {
          "output_type": "stream",
          "name": "stdout",
          "text": [
            "'gram' and 'arm' are not anagrams.\n"
          ]
        }
      ]
    },
    {
      "cell_type": "code",
      "source": [
        "# Q. 5  Write a code to find all occurrences of a given substring within another string."
      ],
      "metadata": {
        "id": "08VidbHD9rp5"
      },
      "execution_count": null,
      "outputs": []
    },
    {
      "cell_type": "code",
      "source": [
        "mainstring = \"i am learning data analytics\"\n",
        "substring = \"data\""
      ],
      "metadata": {
        "id": "Sbpc06sy-EEo"
      },
      "execution_count": null,
      "outputs": []
    },
    {
      "cell_type": "code",
      "source": [
        "len(mainstring)"
      ],
      "metadata": {
        "colab": {
          "base_uri": "https://localhost:8080/"
        },
        "id": "IufrYJ4u-2-W",
        "outputId": "abb2c00e-6924-4ca0-db38-2416f21b0986"
      },
      "execution_count": null,
      "outputs": [
        {
          "output_type": "execute_result",
          "data": {
            "text/plain": [
              "28"
            ]
          },
          "metadata": {},
          "execution_count": 37
        }
      ]
    },
    {
      "cell_type": "code",
      "source": [
        "len(substring)"
      ],
      "metadata": {
        "colab": {
          "base_uri": "https://localhost:8080/"
        },
        "id": "mXMnranOAVH8",
        "outputId": "04d4e64d-d2db-4387-e14a-b2992d17425e"
      },
      "execution_count": null,
      "outputs": [
        {
          "output_type": "execute_result",
          "data": {
            "text/plain": [
              "4"
            ]
          },
          "metadata": {},
          "execution_count": 38
        }
      ]
    },
    {
      "cell_type": "code",
      "source": [
        "print(mainstring.find(\"analytics\"))"
      ],
      "metadata": {
        "colab": {
          "base_uri": "https://localhost:8080/"
        },
        "id": "fOmjaKcBAWoe",
        "outputId": "77c3fcd7-5465-4b5c-89b7-c0f329e8a8b1"
      },
      "execution_count": null,
      "outputs": [
        {
          "output_type": "stream",
          "name": "stdout",
          "text": [
            "19\n"
          ]
        }
      ]
    },
    {
      "cell_type": "code",
      "source": [
        "print(substring.find(\"data\"))"
      ],
      "metadata": {
        "colab": {
          "base_uri": "https://localhost:8080/"
        },
        "id": "OUJIeSdmBEPT",
        "outputId": "0cc21902-e56d-42e9-900e-fd4c47e39153"
      },
      "execution_count": null,
      "outputs": [
        {
          "output_type": "stream",
          "name": "stdout",
          "text": [
            "0\n"
          ]
        }
      ]
    },
    {
      "cell_type": "code",
      "source": [
        "# Q. 6 Write a code to perform basic string compression using the counts of repeated characters."
      ],
      "metadata": {
        "id": "wfCIY_DtBKWc"
      },
      "execution_count": null,
      "outputs": []
    },
    {
      "cell_type": "code",
      "source": [
        "D = \"abbbaaaaaaccdaaab\"\n",
        "print(solve(D))"
      ],
      "metadata": {
        "colab": {
          "base_uri": "https://localhost:8080/"
        },
        "id": "vwW5HI5gCqR3",
        "outputId": "884bb5da-c2e0-4fe4-88d3-17ed7a3c9c6b"
      },
      "execution_count": null,
      "outputs": [
        {
          "output_type": "stream",
          "name": "stdout",
          "text": [
            "ab3a6c2da3b\n"
          ]
        }
      ]
    },
    {
      "cell_type": "code",
      "source": [
        "R = \"AANNGUDCDSHCIJKJLSSQSH\"\n",
        "print(solve(R))"
      ],
      "metadata": {
        "colab": {
          "base_uri": "https://localhost:8080/"
        },
        "id": "1CGaLmK0Cz9m",
        "outputId": "c2714889-2797-4ecb-ad7b-17fad0eb07ab"
      },
      "execution_count": null,
      "outputs": [
        {
          "output_type": "stream",
          "name": "stdout",
          "text": [
            "A2N2GUDCDSHCIJKJLS2QSH\n"
          ]
        }
      ]
    },
    {
      "cell_type": "code",
      "source": [
        "# Q. 7  Write a code to determine if a string has all unique characters."
      ],
      "metadata": {
        "id": "5puwAUsHDFse"
      },
      "execution_count": null,
      "outputs": []
    },
    {
      "cell_type": "code",
      "source": [
        "st = \"abcbd\"\n",
        "x=list(set(st))\n",
        "y=list(st)\n",
        "x.sort()\n",
        "y.sort()\n",
        "if(x==y):\n",
        "    print(True)\n",
        "else:\n",
        "    print(False)"
      ],
      "metadata": {
        "colab": {
          "base_uri": "https://localhost:8080/"
        },
        "id": "dRSn3qvyidy8",
        "outputId": "dfc07dbf-12aa-496e-e38c-b1d998748d72"
      },
      "execution_count": null,
      "outputs": [
        {
          "output_type": "stream",
          "name": "stdout",
          "text": [
            "False\n"
          ]
        }
      ]
    },
    {
      "cell_type": "code",
      "source": [
        "def isUniqueChars(st):\n",
        "\n",
        "    for i in st:\n",
        "        if st.count(i) > 1:\n",
        "            return False\n",
        "    else:\n",
        "     return True\n",
        "\n",
        "    st = \"abcd\"\n",
        "print(isUniqueChars(st))"
      ],
      "metadata": {
        "colab": {
          "base_uri": "https://localhost:8080/"
        },
        "id": "cCtTiqQViuxq",
        "outputId": "6eda8340-6957-4953-947a-5188f9f882d3"
      },
      "execution_count": null,
      "outputs": [
        {
          "output_type": "stream",
          "name": "stdout",
          "text": [
            "False\n"
          ]
        }
      ]
    },
    {
      "cell_type": "code",
      "source": [
        "def isUniqueChars(st):\n",
        "\n",
        "    for i in st:\n",
        "        if st.count(i) >1:\n",
        "            return False\n",
        "    else:\n",
        "     return True\n",
        "\n",
        "    st = \"abbccd\"\n",
        "print(isUniqueChars(st))"
      ],
      "metadata": {
        "colab": {
          "base_uri": "https://localhost:8080/"
        },
        "id": "5KhjAnAojGMD",
        "outputId": "2e2f984a-61b6-4800-a9d1-c6c9ee1cdc46"
      },
      "execution_count": null,
      "outputs": [
        {
          "output_type": "stream",
          "name": "stdout",
          "text": [
            "False\n"
          ]
        }
      ]
    },
    {
      "cell_type": "code",
      "source": [
        "st = \"abcbdaaccbd\"\n",
        "a=\"\"\n",
        "for i in st:\n",
        "    if i not in a:\n",
        "        a+=i\n",
        "if(a==st):\n",
        "    print(True)\n",
        "else:\n",
        "    print(False)"
      ],
      "metadata": {
        "colab": {
          "base_uri": "https://localhost:8080/"
        },
        "id": "I8_kJVABjQwv",
        "outputId": "3b4a79e2-bc9f-480b-d2ec-c75475d751e7"
      },
      "execution_count": null,
      "outputs": [
        {
          "output_type": "stream",
          "name": "stdout",
          "text": [
            "False\n"
          ]
        }
      ]
    },
    {
      "cell_type": "code",
      "source": [
        "# Q. 8  Write a code to convert a given string to uppercase or lowercase."
      ],
      "metadata": {
        "id": "asIJ3gLboisz"
      },
      "execution_count": null,
      "outputs": []
    },
    {
      "cell_type": "code",
      "source": [
        "# uppercase\n",
        "string1 = \"She is beautiful\"\n",
        "string1.upper()"
      ],
      "metadata": {
        "colab": {
          "base_uri": "https://localhost:8080/",
          "height": 35
        },
        "id": "ItgeTKLZscOi",
        "outputId": "c3cc9e06-d330-4f97-e9a7-fd3e33437ab8"
      },
      "execution_count": null,
      "outputs": [
        {
          "output_type": "execute_result",
          "data": {
            "text/plain": [
              "'SHE IS BEAUTIFUL'"
            ],
            "application/vnd.google.colaboratory.intrinsic+json": {
              "type": "string"
            }
          },
          "metadata": {},
          "execution_count": 38
        }
      ]
    },
    {
      "cell_type": "code",
      "source": [
        "#lowercase\n",
        "string1 = \"SHE IS BEAUTIFUL\"\n",
        "string1.lower()"
      ],
      "metadata": {
        "colab": {
          "base_uri": "https://localhost:8080/",
          "height": 35
        },
        "id": "sZ0wv3ossgxr",
        "outputId": "45f9b2fe-85ec-4a40-ac6f-34120c02806d"
      },
      "execution_count": null,
      "outputs": [
        {
          "output_type": "execute_result",
          "data": {
            "text/plain": [
              "'she is beautiful'"
            ],
            "application/vnd.google.colaboratory.intrinsic+json": {
              "type": "string"
            }
          },
          "metadata": {},
          "execution_count": 39
        }
      ]
    },
    {
      "cell_type": "code",
      "source": [
        "# Q. 9 Write a code to count the number of words in a string."
      ],
      "metadata": {
        "id": "xvGt8jHGskM5"
      },
      "execution_count": null,
      "outputs": []
    },
    {
      "cell_type": "code",
      "source": [
        "sentence = \"I am learning data analytics\"\n",
        "len(sentence)"
      ],
      "metadata": {
        "colab": {
          "base_uri": "https://localhost:8080/"
        },
        "id": "hZmGKh1hs2C5",
        "outputId": "a293376c-e937-4368-f2a8-144de04b9def"
      },
      "execution_count": null,
      "outputs": [
        {
          "output_type": "execute_result",
          "data": {
            "text/plain": [
              "28"
            ]
          },
          "metadata": {},
          "execution_count": 44
        }
      ]
    },
    {
      "cell_type": "code",
      "source": [
        "sentence.count(\"data\")"
      ],
      "metadata": {
        "colab": {
          "base_uri": "https://localhost:8080/"
        },
        "id": "KweQWoCitD3t",
        "outputId": "30975bb2-8293-413b-81e3-e30a53aa6c90"
      },
      "execution_count": null,
      "outputs": [
        {
          "output_type": "execute_result",
          "data": {
            "text/plain": [
              "1"
            ]
          },
          "metadata": {},
          "execution_count": 45
        }
      ]
    },
    {
      "cell_type": "code",
      "source": [
        "# Q. 10 Write a code to concatenate two strings without using the + operator."
      ],
      "metadata": {
        "id": "8hyds_AGtM4N"
      },
      "execution_count": null,
      "outputs": []
    },
    {
      "cell_type": "code",
      "source": [
        "A = \"work\"\n",
        "B = \"hard\"\n",
        "C = (A,B)"
      ],
      "metadata": {
        "id": "m5a0x3G8taEm"
      },
      "execution_count": null,
      "outputs": []
    },
    {
      "cell_type": "code",
      "source": [
        "C"
      ],
      "metadata": {
        "colab": {
          "base_uri": "https://localhost:8080/"
        },
        "id": "FnBv51UrtnMx",
        "outputId": "59947d24-203a-47bb-d45d-8f2fd15ac1a8"
      },
      "execution_count": null,
      "outputs": [
        {
          "output_type": "execute_result",
          "data": {
            "text/plain": [
              "('work', 'hard')"
            ]
          },
          "metadata": {},
          "execution_count": 49
        }
      ]
    },
    {
      "cell_type": "code",
      "source": [
        "# Q. 11 Write a code to remove all occurrences of a specific element from a list."
      ],
      "metadata": {
        "id": "vnrZR5UCuMbN"
      },
      "execution_count": null,
      "outputs": []
    },
    {
      "cell_type": "code",
      "source": [
        "ds = [\"apple\", \"banana,\", \"cherry\", \"date\"]\n",
        "ds"
      ],
      "metadata": {
        "colab": {
          "base_uri": "https://localhost:8080/"
        },
        "id": "5zEJn3HYuhPw",
        "outputId": "4d74b48a-bb65-4a37-dc3c-c7045521e940"
      },
      "execution_count": null,
      "outputs": [
        {
          "output_type": "execute_result",
          "data": {
            "text/plain": [
              "['apple', 'banana,', 'cherry', 'date']"
            ]
          },
          "metadata": {},
          "execution_count": 60
        }
      ]
    },
    {
      "cell_type": "code",
      "source": [
        "ds.remove(\"date\")"
      ],
      "metadata": {
        "id": "ifL6H2Ueuxly"
      },
      "execution_count": null,
      "outputs": []
    },
    {
      "cell_type": "code",
      "source": [
        "ds"
      ],
      "metadata": {
        "colab": {
          "base_uri": "https://localhost:8080/"
        },
        "id": "SzLlZ92Mu18F",
        "outputId": "ff118774-d9cd-40f2-fe05-afc45f131a85"
      },
      "execution_count": null,
      "outputs": [
        {
          "output_type": "execute_result",
          "data": {
            "text/plain": [
              "['apple', 'banana,', 'cherry']"
            ]
          },
          "metadata": {},
          "execution_count": 62
        }
      ]
    },
    {
      "cell_type": "code",
      "source": [
        "# Q. 12  Implement a code to find the second largest number in a given list of integers."
      ],
      "metadata": {
        "id": "YyXWxiRYu2-L"
      },
      "execution_count": null,
      "outputs": []
    },
    {
      "cell_type": "code",
      "source": [
        "NUMBERS = [45,78,59,23,48,79,100]"
      ],
      "metadata": {
        "id": "8q0fK6U6wgHv"
      },
      "execution_count": null,
      "outputs": []
    },
    {
      "cell_type": "code",
      "source": [
        "NUMBERS.sort()"
      ],
      "metadata": {
        "id": "Znxk9mbdwspi"
      },
      "execution_count": null,
      "outputs": []
    },
    {
      "cell_type": "code",
      "source": [
        "NUMBERS"
      ],
      "metadata": {
        "colab": {
          "base_uri": "https://localhost:8080/"
        },
        "id": "hrHEo2DDxbG8",
        "outputId": "45f3b2fd-331e-48df-9eba-0f7256cf2bec"
      },
      "execution_count": null,
      "outputs": [
        {
          "output_type": "execute_result",
          "data": {
            "text/plain": [
              "[23, 45, 48, 59, 78, 79, 100]"
            ]
          },
          "metadata": {},
          "execution_count": 67
        }
      ]
    },
    {
      "cell_type": "code",
      "source": [
        "(NUMBERS)[-2]"
      ],
      "metadata": {
        "colab": {
          "base_uri": "https://localhost:8080/"
        },
        "id": "CA0GH96xxecJ",
        "outputId": "be64a0c6-b6fe-407d-a59e-faf624a42f19"
      },
      "execution_count": null,
      "outputs": [
        {
          "output_type": "execute_result",
          "data": {
            "text/plain": [
              "79"
            ]
          },
          "metadata": {},
          "execution_count": 69
        }
      ]
    },
    {
      "cell_type": "code",
      "source": [
        "# Q. 13  Create a code to count the occurrences of each element in a list and return a dictionary with elements as keys and their counts as value."
      ],
      "metadata": {
        "id": "tIsOO0kfxtkj"
      },
      "execution_count": null,
      "outputs": []
    },
    {
      "cell_type": "code",
      "source": [
        "bag = [\"apple\",\"cherry\", \"apple\", \"banana\", \"apple\",\"pen\",\"pencil\", \"pen\", \"pencil\", \"pen\", \"cherry\"]"
      ],
      "metadata": {
        "id": "QMKVrjOWyIA8"
      },
      "execution_count": null,
      "outputs": []
    },
    {
      "cell_type": "code",
      "source": [
        "bag.count(\"apple\")"
      ],
      "metadata": {
        "colab": {
          "base_uri": "https://localhost:8080/"
        },
        "id": "kI-JYFzdyqur",
        "outputId": "666ac5ae-39e6-426b-a415-b851c084e422"
      },
      "execution_count": null,
      "outputs": [
        {
          "output_type": "execute_result",
          "data": {
            "text/plain": [
              "3"
            ]
          },
          "metadata": {},
          "execution_count": 73
        }
      ]
    },
    {
      "cell_type": "code",
      "source": [
        "bag.count(\"banana\")"
      ],
      "metadata": {
        "colab": {
          "base_uri": "https://localhost:8080/"
        },
        "id": "wUZqX7IJy22V",
        "outputId": "03c5edf4-e96d-4060-c938-dcb86d4b7067"
      },
      "execution_count": null,
      "outputs": [
        {
          "output_type": "execute_result",
          "data": {
            "text/plain": [
              "1"
            ]
          },
          "metadata": {},
          "execution_count": 79
        }
      ]
    },
    {
      "cell_type": "code",
      "source": [
        "bag.count(\"cherry\")"
      ],
      "metadata": {
        "colab": {
          "base_uri": "https://localhost:8080/"
        },
        "id": "qWW1Nrrqy5Vg",
        "outputId": "4f2e79cf-97cc-4a8c-f9b2-f83bd5801519"
      },
      "execution_count": null,
      "outputs": [
        {
          "output_type": "execute_result",
          "data": {
            "text/plain": [
              "2"
            ]
          },
          "metadata": {},
          "execution_count": 75
        }
      ]
    },
    {
      "cell_type": "code",
      "source": [
        "bag.count(\"pen\")"
      ],
      "metadata": {
        "colab": {
          "base_uri": "https://localhost:8080/"
        },
        "id": "dkF3c6VIy7jS",
        "outputId": "8d0bcb6a-7963-4fac-d7dd-433b6c8638e9"
      },
      "execution_count": null,
      "outputs": [
        {
          "output_type": "execute_result",
          "data": {
            "text/plain": [
              "3"
            ]
          },
          "metadata": {},
          "execution_count": 76
        }
      ]
    },
    {
      "cell_type": "code",
      "source": [
        "bag.count(\"pencil\")"
      ],
      "metadata": {
        "colab": {
          "base_uri": "https://localhost:8080/"
        },
        "id": "2fmA6quQy_Ii",
        "outputId": "5179de06-c312-43eb-863e-e2b0d258616e"
      },
      "execution_count": null,
      "outputs": [
        {
          "output_type": "execute_result",
          "data": {
            "text/plain": [
              "2"
            ]
          },
          "metadata": {},
          "execution_count": 77
        }
      ]
    },
    {
      "cell_type": "code",
      "source": [
        "my_bag = {\"apple\": 3, \"banana\": 1, \"cherry\": 2, \"pen\": 3, \"pencil\": 2}\n",
        "my_bag"
      ],
      "metadata": {
        "colab": {
          "base_uri": "https://localhost:8080/"
        },
        "id": "L-Lrc-u0zEOf",
        "outputId": "b99c431f-c87d-49b2-d84b-418728f1a933"
      },
      "execution_count": null,
      "outputs": [
        {
          "output_type": "execute_result",
          "data": {
            "text/plain": [
              "{'apple': 3, 'banana': 1, 'cherry': 2, 'pen': 3, 'pencil': 2}"
            ]
          },
          "metadata": {},
          "execution_count": 80
        }
      ]
    },
    {
      "cell_type": "code",
      "source": [
        "# Q. 14 Write a code to reverse a list in-place without using any built-in reverse functions."
      ],
      "metadata": {
        "id": "U3d1ZfRFzXXx"
      },
      "execution_count": null,
      "outputs": []
    },
    {
      "cell_type": "code",
      "source": [
        "sen = [4, 9, 6, 2, 1]\n",
        "sen[::-1]"
      ],
      "metadata": {
        "colab": {
          "base_uri": "https://localhost:8080/"
        },
        "id": "tC7IHCQC0EVJ",
        "outputId": "822c80fa-9735-4e8d-d411-54717a0693a9"
      },
      "execution_count": null,
      "outputs": [
        {
          "output_type": "execute_result",
          "data": {
            "text/plain": [
              "[1, 2, 6, 9, 4]"
            ]
          },
          "metadata": {},
          "execution_count": 82
        }
      ]
    },
    {
      "cell_type": "code",
      "source": [
        "# Q. 15  Implement a code to find and remove duplicates from a list while preserving the original order of elements."
      ],
      "metadata": {
        "id": "tuv8q9fX0Rgb"
      },
      "execution_count": null,
      "outputs": []
    },
    {
      "cell_type": "code",
      "source": [
        "list3 = [\"grocery\", \"clothes\", \"pen\", \"pen\", \"grocery\", \"clothes\"]"
      ],
      "metadata": {
        "id": "2s1KQx1V1u5k"
      },
      "execution_count": null,
      "outputs": []
    },
    {
      "cell_type": "code",
      "source": [
        "list3"
      ],
      "metadata": {
        "colab": {
          "base_uri": "https://localhost:8080/"
        },
        "id": "oYHFFGkZ41ww",
        "outputId": "d2af38ed-c908-4844-e9fe-2fdf6a9a8596"
      },
      "execution_count": null,
      "outputs": [
        {
          "output_type": "execute_result",
          "data": {
            "text/plain": [
              "['grocery', 'clothes', 'pen', 'pen', 'grocery', 'clothes']"
            ]
          },
          "metadata": {},
          "execution_count": 106
        }
      ]
    },
    {
      "cell_type": "code",
      "source": [
        "list(dict.fromkeys(list3))"
      ],
      "metadata": {
        "colab": {
          "base_uri": "https://localhost:8080/"
        },
        "id": "6ifNJ-YQ3Mrl",
        "outputId": "6e0b82a9-f32c-4dc0-81a4-3c6fb2b92151"
      },
      "execution_count": null,
      "outputs": [
        {
          "output_type": "execute_result",
          "data": {
            "text/plain": [
              "['grocery', 'clothes', 'pen']"
            ]
          },
          "metadata": {},
          "execution_count": 107
        }
      ]
    },
    {
      "cell_type": "code",
      "source": [
        "list_1 = [1, 2, 1, 4, 6]\n",
        "\n",
        "print(list(set(list_1)))\n"
      ],
      "metadata": {
        "colab": {
          "base_uri": "https://localhost:8080/"
        },
        "id": "TiVKbuez5p5T",
        "outputId": "d38dbba9-938f-4a54-f895-4a1bd3e7e170"
      },
      "execution_count": null,
      "outputs": [
        {
          "output_type": "stream",
          "name": "stdout",
          "text": [
            "[1, 2, 4, 6]\n"
          ]
        }
      ]
    },
    {
      "cell_type": "code",
      "source": [
        "# Q. 16 Create a code to check if a given list is sorted (either in ascending or descending order) or not."
      ],
      "metadata": {
        "id": "mZJ9cuS67zrP"
      },
      "execution_count": null,
      "outputs": []
    },
    {
      "cell_type": "code",
      "source": [
        "list2 = [\"books\", \"paper\", \"pen\", \"pencil\", \"eraser\"]\n",
        "list2"
      ],
      "metadata": {
        "colab": {
          "base_uri": "https://localhost:8080/"
        },
        "id": "HwRqXrQg8cNQ",
        "outputId": "649a8b6c-2df7-4e6f-bc62-f8cd6b7447ac"
      },
      "execution_count": null,
      "outputs": [
        {
          "output_type": "execute_result",
          "data": {
            "text/plain": [
              "['books', 'paper', 'pen', 'pencil', 'eraser']"
            ]
          },
          "metadata": {},
          "execution_count": 119
        }
      ]
    },
    {
      "cell_type": "code",
      "source": [
        "sorted(list2)"
      ],
      "metadata": {
        "colab": {
          "base_uri": "https://localhost:8080/"
        },
        "id": "kwuJ9B_G8x8e",
        "outputId": "8671def2-9948-4bc2-f035-6a90e3216976"
      },
      "execution_count": null,
      "outputs": [
        {
          "output_type": "execute_result",
          "data": {
            "text/plain": [
              "['books', 'eraser', 'paper', 'pen', 'pencil']"
            ]
          },
          "metadata": {},
          "execution_count": 120
        }
      ]
    },
    {
      "cell_type": "code",
      "source": [
        "sorted(list2)[::-1]"
      ],
      "metadata": {
        "colab": {
          "base_uri": "https://localhost:8080/"
        },
        "id": "JH_ubDKD9OGX",
        "outputId": "752600e9-036c-497f-9ea5-5bba586ccdff"
      },
      "execution_count": null,
      "outputs": [
        {
          "output_type": "execute_result",
          "data": {
            "text/plain": [
              "['pencil', 'pen', 'paper', 'eraser', 'books']"
            ]
          },
          "metadata": {},
          "execution_count": 121
        }
      ]
    },
    {
      "cell_type": "code",
      "source": [
        "def is_sorted_descending(lst):\n",
        "    return all(\n",
        "        lst[index] >= lst[index+1]\n",
        "        for index in range(len(lst) - 1)\n",
        "    )\n",
        "\n",
        "\n",
        "list_1 = [5, 4, 3, 2, 1]\n",
        "print(is_sorted_descending(list_1))\n",
        "\n",
        "list_2 = [1, 2, 3, 4, 5]\n",
        "print(is_sorted_descending(list_2))\n",
        "\n",
        "if is_sorted_descending(list_1):\n",
        "    print('The list is sorted in DESCENDING order')\n",
        "else:\n",
        "    print('The list is not sorted in DESCENDING order')"
      ],
      "metadata": {
        "colab": {
          "base_uri": "https://localhost:8080/"
        },
        "id": "bb3XlTI29wlD",
        "outputId": "bf09ed25-d920-4058-fdba-f09a4a43d9b1"
      },
      "execution_count": null,
      "outputs": [
        {
          "output_type": "stream",
          "name": "stdout",
          "text": [
            "True\n",
            "False\n",
            "The list is sorted in DESCENDING order\n"
          ]
        }
      ]
    },
    {
      "cell_type": "code",
      "source": [
        "def is_sorted_ascending(lst):\n",
        "    return all(\n",
        "        lst[index] <= lst[index+1]\n",
        "        for index in range(len(lst) - 1)\n",
        "    )\n",
        "\n",
        "\n",
        "list_1 = [1, 2, 3, 4, 5]\n",
        "print(is_sorted_ascending(list_1))\n",
        "\n",
        "list_2 = [5, 4, 3, 2, 1]\n",
        "print(is_sorted_ascending(list_2))\n",
        "\n",
        "if is_sorted_ascending(list_1):\n",
        "    print('The list is sorted in ascending order')\n",
        "else:\n",
        "    print('The list is not sorted in ascending order')"
      ],
      "metadata": {
        "colab": {
          "base_uri": "https://localhost:8080/"
        },
        "id": "vrOblUhh_b7s",
        "outputId": "abe05912-942d-4220-88be-5af1f1ba20ed"
      },
      "execution_count": null,
      "outputs": [
        {
          "output_type": "stream",
          "name": "stdout",
          "text": [
            "True\n",
            "False\n",
            "The list is sorted in ascending order\n"
          ]
        }
      ]
    },
    {
      "cell_type": "code",
      "source": [
        "# Q. 17 Write a code to merge two sorted lists into a single sorted list."
      ],
      "metadata": {
        "id": "Xe3fVfCc_1di"
      },
      "execution_count": null,
      "outputs": []
    },
    {
      "cell_type": "code",
      "source": [
        "list1 = [5,9,6,7]\n",
        "list2 = [4,8,3,1]"
      ],
      "metadata": {
        "id": "ExGjwu5jAeBL"
      },
      "execution_count": null,
      "outputs": []
    },
    {
      "cell_type": "code",
      "source": [
        "list1"
      ],
      "metadata": {
        "colab": {
          "base_uri": "https://localhost:8080/"
        },
        "id": "PsX5Gn-RAm-C",
        "outputId": "5895ad3f-ed00-4bb1-f9fd-1b9fc06d4e30"
      },
      "execution_count": null,
      "outputs": [
        {
          "output_type": "execute_result",
          "data": {
            "text/plain": [
              "[5, 9, 6, 7]"
            ]
          },
          "metadata": {},
          "execution_count": 151
        }
      ]
    },
    {
      "cell_type": "code",
      "source": [
        "list2"
      ],
      "metadata": {
        "colab": {
          "base_uri": "https://localhost:8080/"
        },
        "id": "pkZX1Jt_A7-S",
        "outputId": "68eac9c7-923e-4202-85a4-e5a293a15e8f"
      },
      "execution_count": null,
      "outputs": [
        {
          "output_type": "execute_result",
          "data": {
            "text/plain": [
              "[4, 8, 3, 1]"
            ]
          },
          "metadata": {},
          "execution_count": 152
        }
      ]
    },
    {
      "cell_type": "code",
      "source": [
        "list1.extend(list2)"
      ],
      "metadata": {
        "id": "9j86Z1D4A9WH"
      },
      "execution_count": null,
      "outputs": []
    },
    {
      "cell_type": "code",
      "source": [
        "list1"
      ],
      "metadata": {
        "colab": {
          "base_uri": "https://localhost:8080/"
        },
        "id": "HB33JF7mBFSg",
        "outputId": "eaedc72b-a7aa-47d5-95fb-1ea35ef9a4fd"
      },
      "execution_count": null,
      "outputs": [
        {
          "output_type": "execute_result",
          "data": {
            "text/plain": [
              "[5, 9, 6, 7, 4, 8, 3, 1]"
            ]
          },
          "metadata": {},
          "execution_count": 154
        }
      ]
    },
    {
      "cell_type": "code",
      "source": [
        "list1.sort()"
      ],
      "metadata": {
        "id": "sTUHWCBHBKgd"
      },
      "execution_count": null,
      "outputs": []
    },
    {
      "cell_type": "code",
      "source": [
        "list1"
      ],
      "metadata": {
        "colab": {
          "base_uri": "https://localhost:8080/"
        },
        "id": "NLMZeHp8BbHK",
        "outputId": "ab1d36df-aaf7-455d-8fce-270a42001c76"
      },
      "execution_count": null,
      "outputs": [
        {
          "output_type": "execute_result",
          "data": {
            "text/plain": [
              "[1, 3, 4, 5, 6, 7, 8, 9]"
            ]
          },
          "metadata": {},
          "execution_count": 156
        }
      ]
    },
    {
      "cell_type": "code",
      "source": [
        "# Q. 18  Implement a code to find the intersection of two given lists."
      ],
      "metadata": {
        "id": "kHF0Nn6sBfJw"
      },
      "execution_count": null,
      "outputs": []
    },
    {
      "cell_type": "code",
      "source": [
        "a = [4,8,3,1,0,5,6,7]\n",
        "b = [5,9,1,7,10,2,4]"
      ],
      "metadata": {
        "id": "EQr9kuG8CXYD"
      },
      "execution_count": null,
      "outputs": []
    },
    {
      "cell_type": "code",
      "source": [
        "c = [value for value in a if value in b]\n",
        "\n",
        "print(c)\n"
      ],
      "metadata": {
        "colab": {
          "base_uri": "https://localhost:8080/"
        },
        "id": "t0ItxeNDEIzQ",
        "outputId": "91dea6ca-3ed7-49d8-80ca-b9b258f3370e"
      },
      "execution_count": null,
      "outputs": [
        {
          "output_type": "stream",
          "name": "stdout",
          "text": [
            "[4, 1, 5, 7]\n"
          ]
        }
      ]
    },
    {
      "cell_type": "code",
      "source": [
        "# Q. 19  Create a code to find the union of two lists without duplicates."
      ],
      "metadata": {
        "id": "sO4TpENICvZu"
      },
      "execution_count": null,
      "outputs": []
    },
    {
      "cell_type": "code",
      "source": [
        "s = [1,5,9,7,8,2]\n",
        "d = [5,8,2,7,9,0,3]\n",
        "list(set(s) | set(d))"
      ],
      "metadata": {
        "colab": {
          "base_uri": "https://localhost:8080/"
        },
        "id": "Pmb8n031H2EY",
        "outputId": "8ce657de-966e-41ca-f9aa-1bdee9fe7d11"
      },
      "execution_count": null,
      "outputs": [
        {
          "output_type": "execute_result",
          "data": {
            "text/plain": [
              "[0, 1, 2, 3, 5, 7, 8, 9]"
            ]
          },
          "metadata": {},
          "execution_count": 193
        }
      ]
    },
    {
      "cell_type": "code",
      "source": [
        "s = [1,5,9,7,8,2]\n",
        "d = [5,8,2,7,9,0,3]\n",
        "m = set(s).union(set(b))"
      ],
      "metadata": {
        "id": "WNjd00ERHUt_"
      },
      "execution_count": null,
      "outputs": []
    },
    {
      "cell_type": "code",
      "source": [
        "m"
      ],
      "metadata": {
        "colab": {
          "base_uri": "https://localhost:8080/"
        },
        "id": "efelqwGvHyoG",
        "outputId": "9755f80f-ac47-40f3-e794-aacd14a7d3a7"
      },
      "execution_count": null,
      "outputs": [
        {
          "output_type": "execute_result",
          "data": {
            "text/plain": [
              "{1, 2, 4, 5, 7, 8, 9, 10}"
            ]
          },
          "metadata": {},
          "execution_count": 194
        }
      ]
    },
    {
      "cell_type": "code",
      "source": [
        "# Q. 20  Write a code to shuffle a given list randomly without using any built-in shuffle functions."
      ],
      "metadata": {
        "id": "1VizQ63uJDeL"
      },
      "execution_count": null,
      "outputs": []
    },
    {
      "cell_type": "code",
      "source": [
        "import random\n",
        "colours = [\"red\", \"green\", \"blue\", \"yellow\"]\n",
        "random.shuffle(colours)\n",
        "\n",
        "print(colours)"
      ],
      "metadata": {
        "colab": {
          "base_uri": "https://localhost:8080/"
        },
        "id": "Wy84y7IZKqvQ",
        "outputId": "279cd014-5493-432a-eb9f-0c050b95048a"
      },
      "execution_count": null,
      "outputs": [
        {
          "output_type": "stream",
          "name": "stdout",
          "text": [
            "['yellow', 'red', 'blue', 'green']\n"
          ]
        }
      ]
    },
    {
      "cell_type": "code",
      "source": [
        "import random\n",
        "shapes = [\"circle\", \"square\", \"triangle\", \"rectangle\"]\n",
        "random.shuffle(shapes)\n",
        "\n",
        "print(shapes)"
      ],
      "metadata": {
        "colab": {
          "base_uri": "https://localhost:8080/"
        },
        "id": "WLuwUmt7LcII",
        "outputId": "4a609e5d-8b2d-424d-884e-6869fdb9e586"
      },
      "execution_count": null,
      "outputs": [
        {
          "output_type": "stream",
          "name": "stdout",
          "text": [
            "['triangle', 'square', 'circle', 'rectangle']\n"
          ]
        }
      ]
    },
    {
      "cell_type": "code",
      "source": [
        "colours = [\"pink\", \"orange\", \"red\"]\n",
        "colours.sort()"
      ],
      "metadata": {
        "id": "mZkwHLxgN-vT"
      },
      "execution_count": null,
      "outputs": []
    },
    {
      "cell_type": "code",
      "source": [
        "colours"
      ],
      "metadata": {
        "colab": {
          "base_uri": "https://localhost:8080/"
        },
        "id": "XPcIUbwaQcP-",
        "outputId": "a8ebfe02-a74d-4a29-cd82-851078a3802a"
      },
      "execution_count": null,
      "outputs": [
        {
          "output_type": "execute_result",
          "data": {
            "text/plain": [
              "['pink', 'orange', 'red']"
            ]
          },
          "metadata": {},
          "execution_count": 210
        }
      ]
    },
    {
      "cell_type": "code",
      "source": [
        "# Q. 21  Write a code that takes two tuples as input and returns a new tuple containing elements that are common to both input tuples."
      ],
      "metadata": {
        "id": "apFxsLWbQpZi"
      },
      "execution_count": null,
      "outputs": []
    },
    {
      "cell_type": "code",
      "source": [
        "P = (41,\"GOOD\", 4.25, \"HELLO\")\n",
        "Q = (\"GOOD\", 4.25, 41)"
      ],
      "metadata": {
        "id": "TdIWNJH8RWK2"
      },
      "execution_count": null,
      "outputs": []
    },
    {
      "cell_type": "code",
      "source": [
        "R = tuple(set(P) & set(Q))"
      ],
      "metadata": {
        "id": "VVASxv25Rx6M"
      },
      "execution_count": null,
      "outputs": []
    },
    {
      "cell_type": "code",
      "source": [
        "R"
      ],
      "metadata": {
        "colab": {
          "base_uri": "https://localhost:8080/"
        },
        "id": "J0Hc-qgBR8Sy",
        "outputId": "14c3135f-45fb-4f3f-fc1f-edeea6385c19"
      },
      "execution_count": null,
      "outputs": [
        {
          "output_type": "execute_result",
          "data": {
            "text/plain": [
              "(41, 4.25, 'GOOD')"
            ]
          },
          "metadata": {},
          "execution_count": 225
        }
      ]
    },
    {
      "cell_type": "code",
      "source": [
        "# Q. 22 Create a code that prompts the user to enter two sets of integers separated by commas. Then, print the intersection of these two sets."
      ],
      "metadata": {
        "id": "WuafRsAuTWXP"
      },
      "execution_count": null,
      "outputs": []
    },
    {
      "cell_type": "code",
      "source": [
        "A = {1,2,3,4,5,0}\n",
        "B = {4,5,6,7,8,0}\n",
        "A & B\n"
      ],
      "metadata": {
        "colab": {
          "base_uri": "https://localhost:8080/"
        },
        "id": "Elmeh22CTvE7",
        "outputId": "b172e2e3-f6c8-4f8b-c193-c3664e4d158d"
      },
      "execution_count": null,
      "outputs": [
        {
          "output_type": "execute_result",
          "data": {
            "text/plain": [
              "{0, 4, 5}"
            ]
          },
          "metadata": {},
          "execution_count": 227
        }
      ]
    },
    {
      "cell_type": "code",
      "source": [
        "S = {7, 45, 21, 23 ,58, 96}\n",
        "D = {10,7, 21,58, 96, 27}\n",
        "S & D"
      ],
      "metadata": {
        "colab": {
          "base_uri": "https://localhost:8080/"
        },
        "id": "G_RBrxTtUHSI",
        "outputId": "e9273f63-5279-4702-96d1-c9a543e50a26"
      },
      "execution_count": null,
      "outputs": [
        {
          "output_type": "execute_result",
          "data": {
            "text/plain": [
              "{7, 21, 58, 96}"
            ]
          },
          "metadata": {},
          "execution_count": 229
        }
      ]
    },
    {
      "cell_type": "code",
      "source": [
        "# Q. 23 Write a code to concatenate two tuples. The function should take two tuples as input and return a new tuple containing elements from both input tuples."
      ],
      "metadata": {
        "id": "DDpAUhOHUXjs"
      },
      "execution_count": null,
      "outputs": []
    },
    {
      "cell_type": "code",
      "source": [
        "A = (1,2,3,4)\n",
        "B = (5,6,7,8)\n",
        "C = A + B"
      ],
      "metadata": {
        "id": "tbvs_6uJUl6Y"
      },
      "execution_count": null,
      "outputs": []
    },
    {
      "cell_type": "code",
      "source": [
        "C"
      ],
      "metadata": {
        "colab": {
          "base_uri": "https://localhost:8080/"
        },
        "id": "9GKqoDsWUtLi",
        "outputId": "d37e86cc-d920-405f-cda5-611209629cf0"
      },
      "execution_count": null,
      "outputs": [
        {
          "output_type": "execute_result",
          "data": {
            "text/plain": [
              "(1, 2, 3, 4, 5, 6, 7, 8)"
            ]
          },
          "metadata": {},
          "execution_count": 232
        }
      ]
    },
    {
      "cell_type": "code",
      "source": [
        "J =(\"FOOD\", \"AIR\", \"WATER\")\n",
        "K = (\"SHELTER\", \"CLOTHES\")\n",
        "L = (J,K)\n",
        "L"
      ],
      "metadata": {
        "colab": {
          "base_uri": "https://localhost:8080/"
        },
        "id": "sEJ6Vz88UtrQ",
        "outputId": "97e6a315-82c3-4be6-a07f-e7c4f051e2d9"
      },
      "execution_count": null,
      "outputs": [
        {
          "output_type": "execute_result",
          "data": {
            "text/plain": [
              "(('FOOD', 'AIR', 'WATER'), ('SHELTER', 'CLOTHES'))"
            ]
          },
          "metadata": {},
          "execution_count": 234
        }
      ]
    },
    {
      "cell_type": "code",
      "source": [
        "# Q. 24 Develop a code that prompts the user to input two sets of strings. Then, print the elements that are present in the first set but not in the second set."
      ],
      "metadata": {
        "id": "3l07fID5VOpT"
      },
      "execution_count": null,
      "outputs": []
    },
    {
      "cell_type": "code",
      "source": [
        "sub1 = {\"pom\", \"hrm\", \"law\", \"IB\"}\n",
        "sub2 = {\"law\", \"ob\", \"eco\",\"rm\"}\n",
        "sub1 - sub2"
      ],
      "metadata": {
        "colab": {
          "base_uri": "https://localhost:8080/"
        },
        "id": "7grkNySUWq90",
        "outputId": "59a31d35-f31a-4c13-eaad-cd3ba3b987fa"
      },
      "execution_count": null,
      "outputs": [
        {
          "output_type": "execute_result",
          "data": {
            "text/plain": [
              "{'IB', 'hrm', 'pom'}"
            ]
          },
          "metadata": {},
          "execution_count": 236
        }
      ]
    },
    {
      "cell_type": "code",
      "source": [
        "# Q. 25 Create a code that takes a tuple of two integers as input. The function should return a new tuple containing elements from the original tuple within the specified range of indices."
      ],
      "metadata": {
        "id": "CqxydurtX4Qn"
      },
      "execution_count": null,
      "outputs": []
    },
    {
      "cell_type": "code",
      "source": [
        "E = (1,2)\n",
        "F = E[0:2]\n"
      ],
      "metadata": {
        "id": "T9W5vnQ2dMHD"
      },
      "execution_count": null,
      "outputs": []
    },
    {
      "cell_type": "code",
      "source": [
        "F"
      ],
      "metadata": {
        "colab": {
          "base_uri": "https://localhost:8080/"
        },
        "id": "5_6N9WqwdcfC",
        "outputId": "06c06505-9380-40e8-bb8c-ad3984fc4e87"
      },
      "execution_count": null,
      "outputs": [
        {
          "output_type": "execute_result",
          "data": {
            "text/plain": [
              "(1, 2)"
            ]
          },
          "metadata": {},
          "execution_count": 257
        }
      ]
    },
    {
      "cell_type": "code",
      "source": [
        "E = (1,2,3,4,5,6,7,8,9)\n",
        "F = (5,0,6,4,)\n",
        "H = E + F\n",
        "G = H[5:9]"
      ],
      "metadata": {
        "id": "s3P2AGcschka"
      },
      "execution_count": null,
      "outputs": []
    },
    {
      "cell_type": "code",
      "source": [
        "H"
      ],
      "metadata": {
        "colab": {
          "base_uri": "https://localhost:8080/"
        },
        "id": "sWMhZ1ojcx0y",
        "outputId": "46b3730a-6552-42cb-8a7b-9fa49579e2df"
      },
      "execution_count": null,
      "outputs": [
        {
          "output_type": "execute_result",
          "data": {
            "text/plain": [
              "(1, 2, 3, 4, 5, 6, 7, 8, 9, 5, 0, 6, 4)"
            ]
          },
          "metadata": {},
          "execution_count": 253
        }
      ]
    },
    {
      "cell_type": "code",
      "source": [
        "# Q.26 Write a code that prompts the user to input two sets of characters. Then, print the union of these two sets."
      ],
      "metadata": {
        "id": "kI3Q1sv_Za06"
      },
      "execution_count": null,
      "outputs": []
    },
    {
      "cell_type": "code",
      "source": [
        "BAG1 = {\"apple\", \"banana\", \"cherry\"}\n",
        "BAG2 = {\"pen\", \"pencil\", \"eraser\"}\n",
        "BAG1 | BAG2"
      ],
      "metadata": {
        "colab": {
          "base_uri": "https://localhost:8080/"
        },
        "id": "V4GhUtkhZj66",
        "outputId": "24bca3ed-e9c2-4f9b-b10a-d01aedebae37"
      },
      "execution_count": null,
      "outputs": [
        {
          "output_type": "execute_result",
          "data": {
            "text/plain": [
              "{'apple', 'banana', 'cherry', 'eraser', 'pen', 'pencil'}"
            ]
          },
          "metadata": {},
          "execution_count": 247
        }
      ]
    },
    {
      "cell_type": "code",
      "source": [
        "# Q. 27 Develop a code that takes a tuple of integers as input. The function should return the maximum and minimum values from the tuple using tuple unpacking."
      ],
      "metadata": {
        "id": "35umr-m1b3sw"
      },
      "execution_count": null,
      "outputs": []
    },
    {
      "cell_type": "code",
      "source": [
        "numerics = (15,86,45,96,47,83,20)\n",
        "max(numerics)"
      ],
      "metadata": {
        "colab": {
          "base_uri": "https://localhost:8080/"
        },
        "id": "o0D9nUwocQcu",
        "outputId": "b44e67cd-f4fc-4a5a-abdd-852327cfd8ba"
      },
      "execution_count": null,
      "outputs": [
        {
          "output_type": "execute_result",
          "data": {
            "text/plain": [
              "96"
            ]
          },
          "metadata": {},
          "execution_count": 259
        }
      ]
    },
    {
      "cell_type": "code",
      "source": [
        "min(numerics)"
      ],
      "metadata": {
        "colab": {
          "base_uri": "https://localhost:8080/"
        },
        "id": "BjuOk30yd7qq",
        "outputId": "5e7007ba-fec2-4988-d277-006dda0c4d0f"
      },
      "execution_count": null,
      "outputs": [
        {
          "output_type": "execute_result",
          "data": {
            "text/plain": [
              "15"
            ]
          },
          "metadata": {},
          "execution_count": 260
        }
      ]
    },
    {
      "cell_type": "code",
      "source": [
        "# Q. 28  Create a code that defines two sets of integers. Then, print the union, intersection, and difference of these two sets."
      ],
      "metadata": {
        "id": "RaGwYI1dd9jA"
      },
      "execution_count": null,
      "outputs": []
    },
    {
      "cell_type": "code",
      "source": [
        "MARKS1 = {45,96,58,48,20,36,74,58,30,15}\n",
        "MARKS2 = {15,20,47,96,42,35,85,64,45,21}"
      ],
      "metadata": {
        "id": "2jzxJtsfegqK"
      },
      "execution_count": null,
      "outputs": []
    },
    {
      "cell_type": "code",
      "source": [
        "MARKS1 | MARKS2  #UNION"
      ],
      "metadata": {
        "colab": {
          "base_uri": "https://localhost:8080/"
        },
        "id": "PXjSSiR7e8SJ",
        "outputId": "adf46f37-a3e4-4f20-c9f7-42e49084567f"
      },
      "execution_count": null,
      "outputs": [
        {
          "output_type": "execute_result",
          "data": {
            "text/plain": [
              "{15, 20, 21, 30, 35, 36, 42, 45, 47, 48, 58, 64, 74, 85, 96}"
            ]
          },
          "metadata": {},
          "execution_count": 263
        }
      ]
    },
    {
      "cell_type": "code",
      "source": [
        "MARKS1 & MARKS2  #INTERSECTION"
      ],
      "metadata": {
        "colab": {
          "base_uri": "https://localhost:8080/"
        },
        "id": "zzgA4CP5e_rT",
        "outputId": "a062c648-24d8-4d0d-856d-8a5bc4beff77"
      },
      "execution_count": null,
      "outputs": [
        {
          "output_type": "execute_result",
          "data": {
            "text/plain": [
              "{15, 20, 45, 96}"
            ]
          },
          "metadata": {},
          "execution_count": 264
        }
      ]
    },
    {
      "cell_type": "code",
      "source": [
        "MARKS1 - MARKS2  #DIFFERENCE"
      ],
      "metadata": {
        "colab": {
          "base_uri": "https://localhost:8080/"
        },
        "id": "WQJus5GofBWd",
        "outputId": "0ee2c31d-507b-466a-a13c-ce710ffecf89"
      },
      "execution_count": null,
      "outputs": [
        {
          "output_type": "execute_result",
          "data": {
            "text/plain": [
              "{30, 36, 48, 58, 74}"
            ]
          },
          "metadata": {},
          "execution_count": 265
        }
      ]
    },
    {
      "cell_type": "code",
      "source": [
        "# Q.29  Write a code that takes a tuple add an element as input. The function should return the count of occurrences of the given element in the tuple."
      ],
      "metadata": {
        "id": "lp3jpKiXfDHd"
      },
      "execution_count": null,
      "outputs": []
    },
    {
      "cell_type": "code",
      "source": [
        "u = (4, 5 , 6 , 8 ,8.23,\"hello\", \"amazing\", \"hello\", 4, 2 , 2 ,4)"
      ],
      "metadata": {
        "id": "oRDLeOXlfgX1"
      },
      "execution_count": null,
      "outputs": []
    },
    {
      "cell_type": "code",
      "source": [
        "u.count(\"hello\")"
      ],
      "metadata": {
        "colab": {
          "base_uri": "https://localhost:8080/"
        },
        "id": "mP8zwIW7gEcm",
        "outputId": "54634f24-55fa-4a76-9f97-27a99701619f"
      },
      "execution_count": null,
      "outputs": [
        {
          "output_type": "execute_result",
          "data": {
            "text/plain": [
              "2"
            ]
          },
          "metadata": {},
          "execution_count": 268
        }
      ]
    },
    {
      "cell_type": "code",
      "source": [
        "u.count(2)"
      ],
      "metadata": {
        "colab": {
          "base_uri": "https://localhost:8080/"
        },
        "id": "54248yPxgJXe",
        "outputId": "44e9e4aa-8307-4fc2-e1af-cc08006727b2"
      },
      "execution_count": null,
      "outputs": [
        {
          "output_type": "execute_result",
          "data": {
            "text/plain": [
              "2"
            ]
          },
          "metadata": {},
          "execution_count": 269
        }
      ]
    },
    {
      "cell_type": "code",
      "source": [
        "u.count(4)"
      ],
      "metadata": {
        "colab": {
          "base_uri": "https://localhost:8080/"
        },
        "id": "cWduMit5gMEA",
        "outputId": "f478bff9-b8df-43d9-c730-7ac11d72516b"
      },
      "execution_count": null,
      "outputs": [
        {
          "output_type": "execute_result",
          "data": {
            "text/plain": [
              "3"
            ]
          },
          "metadata": {},
          "execution_count": 270
        }
      ]
    },
    {
      "cell_type": "code",
      "source": [
        "u.count(\"amazing\")"
      ],
      "metadata": {
        "colab": {
          "base_uri": "https://localhost:8080/"
        },
        "id": "Tf00wnExgNt2",
        "outputId": "7918f4d2-51eb-4cd0-9b24-7b78bd3e3ea6"
      },
      "execution_count": null,
      "outputs": [
        {
          "output_type": "execute_result",
          "data": {
            "text/plain": [
              "1"
            ]
          },
          "metadata": {},
          "execution_count": 271
        }
      ]
    },
    {
      "cell_type": "code",
      "source": [
        "# Q. 30  Develop a code that prompts the user to input two sets of strings. Then, print the symmetric difference of these two sets."
      ],
      "metadata": {
        "id": "JwUoXQeDgRtm"
      },
      "execution_count": null,
      "outputs": []
    },
    {
      "cell_type": "code",
      "source": [
        "team1 = {\"aditya\", \"nisha\", \"rudra\", \"aarohi\", \"raj\"}\n",
        "team2 = {\"aarohi\", \"lakshya\",\"tejas\", \"raj\", \"aditya\"}"
      ],
      "metadata": {
        "id": "eLXxuqcPgc9Q"
      },
      "execution_count": null,
      "outputs": []
    },
    {
      "cell_type": "code",
      "source": [
        "team1 ^ team2    #symmetric difference"
      ],
      "metadata": {
        "colab": {
          "base_uri": "https://localhost:8080/"
        },
        "id": "T2MzIdckg7HQ",
        "outputId": "8bf7dc51-7a3c-4fc2-b0ad-2edee199a3b7"
      },
      "execution_count": null,
      "outputs": [
        {
          "output_type": "execute_result",
          "data": {
            "text/plain": [
              "{'lakshya', 'nisha', 'rudra', 'tejas'}"
            ]
          },
          "metadata": {},
          "execution_count": 277
        }
      ]
    },
    {
      "cell_type": "code",
      "source": [
        "# Q. 31  Write a code that takes a list of words as input and returns a dictionary where the keys are unique words and the values are the frequencies of those words in the input list."
      ],
      "metadata": {
        "id": "MLO20yVLg-Fz"
      },
      "execution_count": null,
      "outputs": []
    },
    {
      "cell_type": "code",
      "source": [
        "fruits = [\"apple\", \"banana\", \"cherry\", \"apple\", \"banana\", \"date\", \"apple\",\"cherry\"]"
      ],
      "metadata": {
        "id": "Z_qCLOCohove"
      },
      "execution_count": null,
      "outputs": []
    },
    {
      "cell_type": "code",
      "source": [
        "my_dict = {\"apple\": 3, \"banana\": 2, \"cherry\": 2, \"date\": 1}"
      ],
      "metadata": {
        "id": "iZcroVmZjb9A"
      },
      "execution_count": null,
      "outputs": []
    },
    {
      "cell_type": "code",
      "source": [
        "my_dict"
      ],
      "metadata": {
        "colab": {
          "base_uri": "https://localhost:8080/"
        },
        "id": "gwZfyhaJjpQ0",
        "outputId": "474ff5c1-c1d4-433e-c12c-f8d6cf0b420d"
      },
      "execution_count": null,
      "outputs": [
        {
          "output_type": "execute_result",
          "data": {
            "text/plain": [
              "{'apple': 3, 'banana': 2, 'cherry': 2, 'date': 1}"
            ]
          },
          "metadata": {},
          "execution_count": 283
        }
      ]
    },
    {
      "cell_type": "code",
      "source": [
        "# Q. 32 Write a code that takes two dictionaries as input and merges them into a single dictionary. If there are common keys, the values should be added together."
      ],
      "metadata": {
        "id": "4FwpG1pMjsky"
      },
      "execution_count": null,
      "outputs": []
    },
    {
      "cell_type": "code",
      "source": [
        "my_ps = {\"name\":[\"akshay\",\"aditi\", \"shubham\"], \"gender\":[\"male\",\"female\", \"male\"], \"age\":[25, 24, 26]}\n"
      ],
      "metadata": {
        "id": "cylezSUKj-pF"
      },
      "execution_count": null,
      "outputs": []
    },
    {
      "cell_type": "code",
      "source": [
        "my_ps"
      ],
      "metadata": {
        "colab": {
          "base_uri": "https://localhost:8080/"
        },
        "id": "PcuLckZ8lNpw",
        "outputId": "23c131cf-ab89-4d82-d771-969df6a3592a"
      },
      "execution_count": null,
      "outputs": [
        {
          "output_type": "execute_result",
          "data": {
            "text/plain": [
              "{'name': ['akshay', 'aditi', 'shubham'],\n",
              " 'gender': ['male', 'female', 'male'],\n",
              " 'age': [25, 24, 26]}"
            ]
          },
          "metadata": {},
          "execution_count": 304
        }
      ]
    },
    {
      "cell_type": "code",
      "source": [
        "my_ps1 = {\"place\":[\"ahmedabad\", \"surat\", \"rajkot\"]}\n",
        "my_ps1"
      ],
      "metadata": {
        "colab": {
          "base_uri": "https://localhost:8080/"
        },
        "id": "at4LuYmGlQXW",
        "outputId": "1107f0bf-2f3a-44b1-cb8d-c7bb11c4803e"
      },
      "execution_count": null,
      "outputs": [
        {
          "output_type": "execute_result",
          "data": {
            "text/plain": [
              "{'place': ['ahmedabad', 'surat', 'rajkot']}"
            ]
          },
          "metadata": {},
          "execution_count": 305
        }
      ]
    },
    {
      "cell_type": "code",
      "source": [
        "my_ps.update(my_ps1)"
      ],
      "metadata": {
        "id": "GPsQCUjhlSfE"
      },
      "execution_count": null,
      "outputs": []
    },
    {
      "cell_type": "code",
      "source": [
        "my_ps"
      ],
      "metadata": {
        "colab": {
          "base_uri": "https://localhost:8080/"
        },
        "id": "cPky6gU2md1W",
        "outputId": "4ff603e7-326a-45df-ccee-d0a95e5d5d5f"
      },
      "execution_count": null,
      "outputs": [
        {
          "output_type": "execute_result",
          "data": {
            "text/plain": [
              "{'name': ['akshay', 'aditi', 'shubham'],\n",
              " 'gender': ['male', 'female', 'male'],\n",
              " 'age': [25, 24, 26],\n",
              " 'place': ['ahmedabad', 'surat', 'rajkot']}"
            ]
          },
          "metadata": {},
          "execution_count": 308
        }
      ]
    },
    {
      "cell_type": "code",
      "source": [
        "my_dict = {\"name\":[\"aarya\", \"ayush\", \"adi\"], \"gender\":[\"female\", \"male\",\"male\"], \"age\":[25, 24, 26]}\n",
        "my_dict"
      ],
      "metadata": {
        "colab": {
          "base_uri": "https://localhost:8080/"
        },
        "id": "ficVPab8mypR",
        "outputId": "03b04bc7-be6e-4241-a4b0-b28663f0d4d5"
      },
      "execution_count": null,
      "outputs": [
        {
          "output_type": "execute_result",
          "data": {
            "text/plain": [
              "{'name': ['aarya', 'ayush', 'adi'],\n",
              " 'gender': ['female', 'male', 'male'],\n",
              " 'age': [25, 24, 26]}"
            ]
          },
          "metadata": {},
          "execution_count": 310
        }
      ]
    },
    {
      "cell_type": "code",
      "source": [
        "my_dict1 = {\"name\":[\"kushi\", \"suraj\", \"raj\"]}\n",
        "my_dict1"
      ],
      "metadata": {
        "colab": {
          "base_uri": "https://localhost:8080/"
        },
        "id": "QaoDGCObmhZx",
        "outputId": "052eb6d4-fdfa-4a60-97a4-a1e170ad6d79"
      },
      "execution_count": null,
      "outputs": [
        {
          "output_type": "execute_result",
          "data": {
            "text/plain": [
              "{'name': ['kushi', 'suraj', 'raj']}"
            ]
          },
          "metadata": {},
          "execution_count": 311
        }
      ]
    },
    {
      "cell_type": "code",
      "source": [
        "my_dict.update(my_dict1)"
      ],
      "metadata": {
        "id": "s6P-PhXEn8Qe"
      },
      "execution_count": null,
      "outputs": []
    },
    {
      "cell_type": "code",
      "source": [
        "my_dict"
      ],
      "metadata": {
        "colab": {
          "base_uri": "https://localhost:8080/"
        },
        "id": "pxIgutmyn-4Z",
        "outputId": "be1bad43-ea1a-4ff5-ab79-d1cb091b706d"
      },
      "execution_count": null,
      "outputs": [
        {
          "output_type": "execute_result",
          "data": {
            "text/plain": [
              "{'name': ['kushi', 'suraj', 'raj'],\n",
              " 'gender': ['female', 'male', 'male'],\n",
              " 'age': [25, 24, 26]}"
            ]
          },
          "metadata": {},
          "execution_count": 313
        }
      ]
    },
    {
      "cell_type": "code",
      "source": [
        "# Q. 33  Write a code to access a value in a nested dictionary. The function should take the dictionary and a list of keys as input, and return the corresponding value. If any of the keys do not exist in the dictionary, the function should return None."
      ],
      "metadata": {
        "id": "Pa5jP-aKoAor"
      },
      "execution_count": null,
      "outputs": []
    },
    {
      "cell_type": "code",
      "source": [
        "my_friends = {\n",
        "    \"first\": {\"name\": \"akshay\", \"age\": 25},\n",
        "    \"second\": {\"name\": \"aditi\", \"age\": 24},\n",
        "    \"third\": {\"name\": \"shubham\", \"age\": 26}\n",
        "}"
      ],
      "metadata": {
        "id": "pGZ9tZDwoUrm"
      },
      "execution_count": null,
      "outputs": []
    },
    {
      "cell_type": "code",
      "source": [
        "my_friends"
      ],
      "metadata": {
        "colab": {
          "base_uri": "https://localhost:8080/"
        },
        "id": "ph1tyG6_qYZ5",
        "outputId": "572272f2-d87d-4717-dfee-b474886af2e3"
      },
      "execution_count": null,
      "outputs": [
        {
          "output_type": "execute_result",
          "data": {
            "text/plain": [
              "{'first': {'name': 'akshay', 'age': 25},\n",
              " 'second': {'name': 'aditi', 'age': 24},\n",
              " 'third': {'name': 'shubham', 'age': 26}}"
            ]
          },
          "metadata": {},
          "execution_count": 316
        }
      ]
    },
    {
      "cell_type": "code",
      "source": [
        "for value in my_friends.items():\n",
        "\n",
        " if \"profession\" in value:\n",
        "    print(value[\"yes,it is\"])\n",
        "else:\n",
        "    print(\"None\")"
      ],
      "metadata": {
        "colab": {
          "base_uri": "https://localhost:8080/"
        },
        "id": "fDAvQN5wq_st",
        "outputId": "6c79fe89-0500-4bd3-e637-ca4766d5152f"
      },
      "execution_count": null,
      "outputs": [
        {
          "output_type": "stream",
          "name": "stdout",
          "text": [
            "None\n"
          ]
        }
      ]
    },
    {
      "cell_type": "code",
      "source": [
        "my_friends.keys()"
      ],
      "metadata": {
        "colab": {
          "base_uri": "https://localhost:8080/"
        },
        "id": "DGol6zKmqbUF",
        "outputId": "8d500104-f214-43cd-a7ee-5340ad08a416"
      },
      "execution_count": null,
      "outputs": [
        {
          "output_type": "execute_result",
          "data": {
            "text/plain": [
              "dict_keys(['first', 'second', 'third'])"
            ]
          },
          "metadata": {},
          "execution_count": 317
        }
      ]
    },
    {
      "cell_type": "code",
      "source": [
        "my_friends[\"first\"]"
      ],
      "metadata": {
        "colab": {
          "base_uri": "https://localhost:8080/"
        },
        "id": "vrrU03ehqlXg",
        "outputId": "23c2bd63-0663-415d-b769-b9704769bc3b"
      },
      "execution_count": null,
      "outputs": [
        {
          "output_type": "execute_result",
          "data": {
            "text/plain": [
              "{'name': 'akshay', 'age': 25}"
            ]
          },
          "metadata": {},
          "execution_count": 318
        }
      ]
    },
    {
      "cell_type": "code",
      "source": [
        "my_friends[\"second\"]"
      ],
      "metadata": {
        "colab": {
          "base_uri": "https://localhost:8080/"
        },
        "id": "AIo5VX25qstK",
        "outputId": "97af7459-2e68-4971-e73a-d27567ca8fd1"
      },
      "execution_count": null,
      "outputs": [
        {
          "output_type": "execute_result",
          "data": {
            "text/plain": [
              "{'name': 'aditi', 'age': 24}"
            ]
          },
          "metadata": {},
          "execution_count": 319
        }
      ]
    },
    {
      "cell_type": "code",
      "source": [
        "print(my_friends[\"third\"][\"name\"])"
      ],
      "metadata": {
        "colab": {
          "base_uri": "https://localhost:8080/"
        },
        "id": "7jmT52eoqu8p",
        "outputId": "dfdc6dd9-bc27-4bc5-e848-6a0145cfa22f"
      },
      "execution_count": null,
      "outputs": [
        {
          "output_type": "stream",
          "name": "stdout",
          "text": [
            "shubham\n"
          ]
        }
      ]
    },
    {
      "cell_type": "code",
      "source": [
        "# Q. 34 Write a code that takes a dictionary as input and returns a sorted version of it based on the values. You can choose whether to sort in ascending or descending order."
      ],
      "metadata": {
        "id": "64G5uuHWthVu"
      },
      "execution_count": null,
      "outputs": []
    },
    {
      "cell_type": "code",
      "source": [
        "dt = {'apple': 5, 'banana': 2, 'orange': 8, 'grape': 1}"
      ],
      "metadata": {
        "id": "lBPe0zWywjET"
      },
      "execution_count": null,
      "outputs": []
    },
    {
      "cell_type": "code",
      "source": [
        "dt"
      ],
      "metadata": {
        "colab": {
          "base_uri": "https://localhost:8080/"
        },
        "id": "mGbjVhkswnzG",
        "outputId": "6f5c4acc-08fe-4107-a1c3-e5f366f54004"
      },
      "execution_count": null,
      "outputs": [
        {
          "output_type": "execute_result",
          "data": {
            "text/plain": [
              "{'apple': 5, 'banana': 2, 'orange': 8, 'grape': 1}"
            ]
          },
          "metadata": {},
          "execution_count": 332
        }
      ]
    },
    {
      "cell_type": "code",
      "source": [
        "dt = {'apple': 5, 'banana': 2, 'orange': 8, 'grape': 1}\n",
        "\n",
        "sorted_dt_value = sorted(dt.values())\n",
        "print(sorted_dt_value)"
      ],
      "metadata": {
        "colab": {
          "base_uri": "https://localhost:8080/"
        },
        "id": "plhS1fa-uLXX",
        "outputId": "f977865a-94e8-4ad7-f1de-670d6c3f66a9"
      },
      "execution_count": null,
      "outputs": [
        {
          "output_type": "stream",
          "name": "stdout",
          "text": [
            "[1, 2, 5, 8]\n"
          ]
        }
      ]
    },
    {
      "cell_type": "code",
      "source": [
        "# Q.35  Write a code that inverts a dictionary, swapping keys and values. Ensure that the inverted dictionary correctly handles cases where multiple keys have the same value by storing the keys as a list in the inverted dictionary."
      ],
      "metadata": {
        "id": "0qbNQdp7wViW"
      },
      "execution_count": null,
      "outputs": []
    },
    {
      "cell_type": "code",
      "source": [
        "BOOK_1 = {36:\"RAJ\", 58:\"ADITYA\", 27:\"AYUSH\"}\n",
        "BOOK_1"
      ],
      "metadata": {
        "colab": {
          "base_uri": "https://localhost:8080/"
        },
        "id": "A4YZ6dBKyg42",
        "outputId": "152da16a-08f3-4e96-fbea-c4eb50749ff8"
      },
      "execution_count": 345,
      "outputs": [
        {
          "output_type": "execute_result",
          "data": {
            "text/plain": [
              "{36: 'RAJ', 58: 'ADITYA', 27: 'AYUSH'}"
            ]
          },
          "metadata": {},
          "execution_count": 345
        }
      ]
    },
    {
      "cell_type": "code",
      "source": [
        "invbook1 = { v: k for k, v in BOOK_1.items()}"
      ],
      "metadata": {
        "id": "W4f0nEply4WT"
      },
      "execution_count": 346,
      "outputs": []
    },
    {
      "cell_type": "code",
      "source": [
        "invbook1"
      ],
      "metadata": {
        "colab": {
          "base_uri": "https://localhost:8080/"
        },
        "id": "8ZJaWQ7JzRaZ",
        "outputId": "0d18d43d-29dd-4d37-fe23-3b7e736ba8b9"
      },
      "execution_count": 347,
      "outputs": [
        {
          "output_type": "execute_result",
          "data": {
            "text/plain": [
              "{'RAJ': 36, 'ADITYA': 58, 'AYUSH': 27}"
            ]
          },
          "metadata": {},
          "execution_count": 347
        }
      ]
    },
    {
      "cell_type": "code",
      "source": [
        "my_dict = {'A': 67, 'B': 23, 'C': 45, 'E': 67, 'F': 69, 'G': 67, 'H': 23}\n",
        "\n",
        "inverted_dict = dict()\n",
        "for key, value in my_dict.items():\n",
        "    inverted_dict.setdefault(value, list()).append(key)"
      ],
      "metadata": {
        "id": "L8Eov37M1kiz"
      },
      "execution_count": 351,
      "outputs": []
    },
    {
      "cell_type": "code",
      "source": [
        "inverted_dict"
      ],
      "metadata": {
        "colab": {
          "base_uri": "https://localhost:8080/"
        },
        "id": "HzElrHLU23bO",
        "outputId": "dfe56de2-da74-4e0a-f85c-6ee71352d92b"
      },
      "execution_count": 352,
      "outputs": [
        {
          "output_type": "execute_result",
          "data": {
            "text/plain": [
              "{67: ['A', 'E', 'G'], 23: ['B', 'H'], 45: ['C'], 69: ['F']}"
            ]
          },
          "metadata": {},
          "execution_count": 352
        }
      ]
    }
  ]
}